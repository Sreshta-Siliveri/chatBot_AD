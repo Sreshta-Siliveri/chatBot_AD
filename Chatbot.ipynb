{
 "cells": [
  {
   "cell_type": "code",
   "execution_count": null,
   "metadata": {},
   "outputs": [
    {
     "name": "stdout",
     "output_type": "stream",
     "text": [
      "Welcome to the chatbot! Please input your message.\n",
      "Bot: Hello! How can I help you?\n",
      "Bot: I am a chatbot! Im doing great! What about you?\n",
      "Bot: Yes, I can help you! What do you need help with?\n",
      "Bot: Sorry, I do not understand you. Please try again.\n",
      "Goodbye! Have a nice day!\n"
     ]
    }
   ],
   "source": [
    "def chatbot_response(user_input):\n",
    "    user_input = user_input.lower()\n",
    "    if 'hello' in user_input or 'hi' in user_input:\n",
    "        return 'Hello! How can I help you?'\n",
    "    elif 'how are you?' in user_input:\n",
    "        return 'I am a chatbot! Im doing great! What about you?'\n",
    "    elif 'bye' in user_input:\n",
    "        return 'Goodbye! Have a nice day!'\n",
    "    elif 'help' in user_input:\n",
    "        return 'Yes, I can help you! What do you need help with?'\n",
    "    else:\n",
    "        return 'Sorry, I do not understand you. Please try again.'\n",
    "def run_chatbot():\n",
    "    print('Welcome to the chatbot! Please input your message.')\n",
    "    while True:\n",
    "        user_input = input('You: ')\n",
    "        if 'bye' in user_input.lower():\n",
    "            print('Goodbye! Have a nice day!')\n",
    "            break\n",
    "        else:\n",
    "            response = chatbot_response(user_input)\n",
    "            print('Bot:', response)\n",
    " \n",
    "run_chatbot()"
   ]
  },
  {
   "cell_type": "code",
   "execution_count": null,
   "metadata": {},
   "outputs": [],
   "source": []
  },
  {
   "cell_type": "code",
   "execution_count": 2,
   "metadata": {},
   "outputs": [
    {
     "name": "stdout",
     "output_type": "stream",
     "text": [
      "Welcome to the student chatbot, please input your message.\n",
      "Bot: Hello! How can I help you?\n",
      "Bot: You have an A!\n",
      "Bot: The current time is 11:33 AM.\n",
      "Bot: The current date is 2025-03-04 11:33:34.998360.\n",
      "Bot: Math is a subject that involves numbers and calculations.\n",
      "Bot: Science is a subject that involves the study of the world around us.\n",
      "Bot: I am a chatbot! Im doing great! What about you?\n",
      "Goodbye! Have a nice day!\n"
     ]
    }
   ],
   "source": [
    "def student_chatbot_response(user_input):\n",
    "    user_input = user_input.lower()\n",
    "    if 'hello' in user_input or 'hi' in user_input:\n",
    "        return 'Hello! How can I help you?'\n",
    "    elif 'how are you?' in user_input:\n",
    "        return 'I am a chatbot! Im doing great! What about you?'\n",
    "    elif 'bye' in user_input:\n",
    "        return 'Goodbye! Have a nice day!'\n",
    "    elif 'help' in user_input:\n",
    "        return 'Yes, I can help you! What do you need help with?'\n",
    "    elif 'grade' in user_input:\n",
    "        return 'You have an A!'\n",
    "    elif 'time' in user_input:\n",
    "        import time\n",
    "        current_time=time.strftime('%I:%M %p')\n",
    "        return f'The current time is {current_time}.'\n",
    "    elif 'math' in user_input:\n",
    "        return 'Math is a subject that involves numbers and calculations.'\n",
    "    elif 'sciences' in user_input:\n",
    "        return 'Science is a subject that involves the study of the world around us.'\n",
    "    elif 'date' in user_input:\n",
    "        import datetime\n",
    "        current_date=datetime.datetime.now()\n",
    "        return f'The current date is {current_date}.'\n",
    "    elif 'bye' in user_input:\n",
    "        return 'Goodbye! Have a nice day!'\n",
    "    else:\n",
    "        return 'Sorry, I do not understand you. Please try again.'\n",
    "\n",
    "def run_student_chatbot():\n",
    "    print('Welcome to the student chatbot, please input your message.')\n",
    "    while True:\n",
    "        user_input = input('You: ')\n",
    "        if 'bye' in user_input.lower():\n",
    "            print('Goodbye! Have a nice day!')\n",
    "            break\n",
    "        else:\n",
    "            response = student_chatbot_response(user_input)\n",
    "            print('Bot:', response)\n",
    "\n",
    "run_student_chatbot()"
   ]
  },
  {
   "cell_type": "code",
   "execution_count": 3,
   "metadata": {},
   "outputs": [
    {
     "name": "stderr",
     "output_type": "stream",
     "text": [
      "[nltk_data] Downloading package punkt_tab to\n",
      "[nltk_data]     C:\\Users\\Admin\\AppData\\Roaming\\nltk_data...\n",
      "[nltk_data]   Package punkt_tab is already up-to-date!\n"
     ]
    },
    {
     "name": "stdout",
     "output_type": "stream",
     "text": [
      "Chatbot: Hello! I'm your friendly chatbot. Type 'exit' to end the conversation.\n",
      "Chatbot: I'm not sure how to respond to that. Could you rephrase that?\n",
      "Chatbot: Hey!\n",
      "Chatbot: Greetings!\n",
      "Chatbot: Hey, what's going on?\n",
      "Chatbot: How can I help you?\n",
      "Chatbot: I was created to test.\n",
      "Chatbot: I was created to test.\n",
      "Chatbot: I can answer questions and chat with you.\n",
      "Chatbot: I don't know the weather, but you can check online!\n",
      "Chatbot: Have a great day!\n",
      "Chatbot: Goodbye! Have a great day!\n"
     ]
    }
   ],
   "source": [
    "import random # Generating random numbers\n",
    "import nltk  # NLP module\n",
    "from nltk.stem import PorterStemmer\n",
    "# Initialize NLTK and download required resources\n",
    "nltk.download('punkt_tab')\n",
    "\n",
    "stemmer = PorterStemmer()\n",
    "\n",
    "data = {\n",
    "    \"greetings\": [\"hello\", \"hi\", \"hey\", \"howdy\", \"hola\", \"good morning\", \"good afternoon\", \"good evening\", \"what's up\", \"yo\"],\n",
    "    \"responses\": [\"Hello!\", \"Hi there!\", \"Hey!\", \"Greetings!\", \"How can I help you?\", \"Nice to see you!\", \"Hi, how are you?\", \"Hey, what's going on?\"],\n",
    "    \"farewells\": [\"bye\", \"goodbye\", \"see you later\", \"take care\", \"farewell\", \"have a good day\", \"catch you later\"],\n",
    "    \"farewell_responses\": [\"Goodbye!\", \"See you later!\", \"Take care!\", \"Have a great day!\", \"Bye! Come back soon!\", \"Farewell!\"],\n",
    "    \"questions\": [\"how are you\", \"what's your name\", \"what can you do\", \"who created you\", \"what's the weather today\"],\n",
    "    \"question_responses\": [\"I'm just a bot, but I'm doing great!\", \"I'm your friendly chatbot!\", \"I can answer questions and chat with you.\", \"I was created to test.\", \"I don't know the weather, but you can check online!\"],\n",
    "    \"small_talk\": [\"tell me a joke\", \"what's new\", \"how's it going\", \"what are you up to\"],\n",
    "    \"small_talk_responses\": [\"Why don't scientists trust atoms? Because they make up everything!\", \"Not much, just here to chat with you!\", \"It's going well, thanks for asking!\", \"Just waiting to help you out!\"],\n",
    "}\n",
    "\n",
    "# Map intent categories to their corresponding response categories\n",
    "INTENT_RESPONSE_MAP = {\n",
    "    \"greetings\": \"responses\",\n",
    "    \"farewells\": \"farewell_responses\",\n",
    "    \"questions\": \"question_responses\",\n",
    "    \"small_talk\": \"small_talk_responses\"\n",
    "}\n",
    "def preprocess(sentence):\n",
    "    \"\"\"Tokenize and stem the input sentence\"\"\"\n",
    "    tokens = nltk.word_tokenize(sentence.lower())\n",
    "    return [stemmer.stem(token) for token in tokens]\n",
    "\n",
    "def get_response(user_input):\n",
    "    \"\"\"Return a response based on the user's input\"\"\"\n",
    "    processed_input = preprocess(user_input)\n",
    "\n",
    "    # Check all pattern categories\n",
    "    for intent_category, response_category in INTENT_RESPONSE_MAP.items():\n",
    "        for pattern in data[intent_category]:\n",
    "            processed_pattern = preprocess(pattern)\n",
    "            if set(processed_pattern).issubset(set(processed_input)):  # More accurate matching\n",
    "                return random.choice(data[response_category])\n",
    "            \n",
    "    # Fallback response for unknown inputs\n",
    "    return \"I'm not sure how to respond to that. Could you rephrase that?\"\n",
    "\n",
    "def chat():\n",
    "    \"\"\"Main chatbot function\"\"\"\n",
    "    print(\"Chatbot: Hello! I'm your friendly chatbot. Type 'exit' to end the conversation.\")\n",
    "    while True:\n",
    "        user_input = input(\"You: \").strip()\n",
    "        if user_input.lower() == \"exit\":\n",
    "            print(\"Chatbot: Goodbye! Have a great day!\")\n",
    "            break\n",
    "        response = get_response(user_input)\n",
    "        print(f\"Chatbot: {response}\")\n",
    "\n",
    "if __name__ == \"__main__\":\n",
    "    chat()"
   ]
  }
 ],
 "metadata": {
  "kernelspec": {
   "display_name": "Python 3",
   "language": "python",
   "name": "python3"
  },
  "language_info": {
   "codemirror_mode": {
    "name": "ipython",
    "version": 3
   },
   "file_extension": ".py",
   "mimetype": "text/x-python",
   "name": "python",
   "nbconvert_exporter": "python",
   "pygments_lexer": "ipython3",
   "version": "3.13.1"
  }
 },
 "nbformat": 4,
 "nbformat_minor": 2
}
