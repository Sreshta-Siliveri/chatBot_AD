{
 "cells": [
  {
   "cell_type": "code",
   "execution_count": 3,
   "metadata": {},
   "outputs": [
    {
     "name": "stdout",
     "output_type": "stream",
     "text": [
      "Welcome to the chatbot! Please input your message.\n",
      "Bot: Hello! How can I help you?\n",
      "Bot: I am a chatbot! Im doing great! What about you?\n",
      "Bot: Yes, I can help you! What do you need help with?\n",
      "Bot: Sorry, I do not understand you. Please try again.\n",
      "Goodbye! Have a nice day!\n"
     ]
    }
   ],
   "source": [
    "def chatbot_response(user_input):\n",
    "    user_input = user_input.lower()\n",
    "    if 'hello' in user_input or 'hi' in user_input:\n",
    "        return 'Hello! How can I help you?'\n",
    "    elif 'how are you?' in user_input:\n",
    "        return 'I am a chatbot! Im doing great! What about you?'\n",
    "    elif 'bye' in user_input:\n",
    "        return 'Goodbye! Have a nice day!'\n",
    "    elif 'help' in user_input:\n",
    "        return 'Yes, I can help you! What do you need help with?'\n",
    "    else:\n",
    "        return 'Sorry, I do not understand you. Please try again.'\n",
    "def run_chatbot():\n",
    "    print('Welcome to the chatbot! Please input your message.')\n",
    "    while True:\n",
    "        user_input = input('You: ')\n",
    "        if 'bye' in user_input.lower():\n",
    "            print('Goodbye! Have a nice day!')\n",
    "            break\n",
    "        else:\n",
    "            response = chatbot_response(user_input)\n",
    "            print('Bot:', response)\n",
    "\n",
    "run_chatbot()"
   ]
  },
  {
   "cell_type": "code",
   "execution_count": 2,
   "metadata": {},
   "outputs": [
    {
     "name": "stdout",
     "output_type": "stream",
     "text": [
      "Welcome to the student chatbot, please input your message.\n",
      "Bot: Hello! How can I help you?\n",
      "Bot: You have an A!\n",
      "Bot: The current time is 11:33 AM.\n",
      "Bot: The current date is 2025-03-04 11:33:34.998360.\n",
      "Bot: Math is a subject that involves numbers and calculations.\n",
      "Bot: Science is a subject that involves the study of the world around us.\n",
      "Bot: I am a chatbot! Im doing great! What about you?\n",
      "Goodbye! Have a nice day!\n"
     ]
    }
   ],
   "source": [
    "def student_chatbot_response(user_input):\n",
    "    user_input = user_input.lower()\n",
    "    if 'hello' in user_input or 'hi' in user_input:\n",
    "        return 'Hello! How can I help you?'\n",
    "    elif 'how are you?' in user_input:\n",
    "        return 'I am a chatbot! Im doing great! What about you?'\n",
    "    elif 'bye' in user_input:\n",
    "        return 'Goodbye! Have a nice day!'\n",
    "    elif 'help' in user_input:\n",
    "        return 'Yes, I can help you! What do you need help with?'\n",
    "    elif 'grade' in user_input:\n",
    "        return 'You have an A!'\n",
    "    elif 'time' in user_input:\n",
    "        import time\n",
    "        current_time=time.strftime('%I:%M %p')\n",
    "        return f'The current time is {current_time}.'\n",
    "    elif 'math' in user_input:\n",
    "        return 'Math is a subject that involves numbers and calculations.'\n",
    "    elif 'sciences' in user_input:\n",
    "        return 'Science is a subject that involves the study of the world around us.'\n",
    "    elif 'date' in user_input:\n",
    "        import datetime\n",
    "        current_date=datetime.datetime.now()\n",
    "        return f'The current date is {current_date}.'\n",
    "    elif 'bye' in user_input:\n",
    "        return 'Goodbye! Have a nice day!'\n",
    "    else:\n",
    "        return 'Sorry, I do not understand you. Please try again.'\n",
    "\n",
    "def run_student_chatbot():\n",
    "    print('Welcome to the student chatbot, please input your message.')\n",
    "    while True:\n",
    "        user_input = input('You: ')\n",
    "        if 'bye' in user_input.lower():\n",
    "            print('Goodbye! Have a nice day!')\n",
    "            break\n",
    "        else:\n",
    "            response = student_chatbot_response(user_input)\n",
    "            print('Bot:', response)\n",
    "\n",
    "run_student_chatbot()"
   ]
  }
 ],
 "metadata": {
  "kernelspec": {
   "display_name": "Python 3",
   "language": "python",
   "name": "python3"
  },
  "language_info": {
   "codemirror_mode": {
    "name": "ipython",
    "version": 3
   },
   "file_extension": ".py",
   "mimetype": "text/x-python",
   "name": "python",
   "nbconvert_exporter": "python",
   "pygments_lexer": "ipython3",
   "version": "3.13.1"
  }
 },
 "nbformat": 4,
 "nbformat_minor": 2
}
